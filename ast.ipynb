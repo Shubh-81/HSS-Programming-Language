{
 "cells": [
  {
   "cell_type": "code",
   "execution_count": 156,
   "metadata": {},
   "outputs": [],
   "source": [
    "from lark import Lark, Tree\n",
    "from lexer import Lexer as Lexer_"
   ]
  },
  {
   "cell_type": "code",
   "execution_count": 157,
   "metadata": {},
   "outputs": [],
   "source": [
    "grammar = \"\"\"\n",
    "start: statements\n",
    "\n",
    "statements: statement+\n",
    "statement: print | declare | exception_handling | return | control | expression_statement\n",
    "\n",
    "print: PRINT_KEYWORD ROUND_OPEN print_args ROUND_CLOSE END_OF_STATEMENT\n",
    "print_args: expression print_args_temp | \n",
    "print_args_temp: COMMA expression print_args_temp |\n",
    "\n",
    "expression_statement: expression END_OF_STATEMENT | assignment END_OF_STATEMENT\n",
    "\n",
    "expression: expression binary_op expression | unary_expression | function_call | IDENTIFIER index | ROUND_OPEN expression ROUND_CLOSE | literal | IDENTIFIER COMPOUND_OPERATOR expression | IDENTIFIER DOT_OPERATOR IDENTIFIER expression\n",
    "binary_op: OPERATOR | COMPARATOR\n",
    "unary_expression: UNARY_OPERATOR IDENTIFIER | IDENTIFIER UNARY_OPERATOR | NOT_OPERATOR IDENTIFIER | NOT_OPERATOR ROUND_OPEN expression ROUND_CLOSE\n",
    "\n",
    "assignment: IDENTIFIER ASSIGNMENT_OPERATOR expression \n",
    "\n",
    "index: index SQUARE_OPEN expression SQUARE_CLOSE | \n",
    "\n",
    "control: function | if_else | while | do_while | for_loop | break_continue\n",
    "function: FUNCTION_DECLARATION IDENTIFIER ROUND_OPEN parameters ROUND_CLOSE block\n",
    "if_else: IF_ELIF ROUND_OPEN expression ROUND_CLOSE block else_temp \n",
    "else_temp: ELSE_KEYWORD block | \n",
    "while: WHILE_KEYWORD ROUND_OPEN expression ROUND_CLOSE block\n",
    "do_while: DO_KEYWORD block WHILE_KEYWORD ROUND_OPEN expression ROUND_CLOSE\n",
    "for_loop: FOR_KEYWORD ROUND_OPEN dec_control_flow END_OF_STATEMENT expression END_OF_STATEMENT for_update ROUND_CLOSE block\n",
    "for_update: expression | assignment\n",
    "break_continue: BREAK_CONTINUE END_OF_STATEMENT\n",
    "\n",
    "dec_control_flow: VARIABLE_DECLARATION IDENTIFIER ASSIGNMENT_OPERATOR expression\n",
    "\n",
    "declare: tuple_declaration | list_declaration | arr_declaration | exception_declaration | variable_declaration \n",
    "tuple_declaration: TUPLE_DECLARATION IDENTIFIER ASSIGNMENT_OPERATOR matrix END_OF_STATEMENT\n",
    "list_declaration: LIST_DECLARATION IDENTIFIER ASSIGNMENT_OPERATOR matrix END_OF_STATEMENT\n",
    "arr_declaration: ARR_DECLARATION IDENTIFIER ASSIGNMENT_OPERATOR matrix END_OF_STATEMENT\n",
    "exception_declaration: EXCEPTION_TYPE IDENTIFIER ASSIGNMENT_OPERATOR IDENTIFIER END_OF_STATEMENT\n",
    "variable_declaration: VARIABLE_DECLARATION IDENTIFIER variable_declaration_temp ASSIGNMENT_OPERATOR expression variable_declaration_expression_temp END_OF_STATEMENT\n",
    "variable_declaration_temp: COMMA IDENTIFIER variable_declaration_temp | \n",
    "variable_declaration_expression_temp: COMMA expression variable_declaration_expression_temp | \n",
    "\n",
    "matrix: matrix_temp | list_content\n",
    "matrix_temp: SQUARE_OPEN matrix matrix_temp_comma SQUARE_CLOSE | \n",
    "matrix_temp_comma: COMMA matrix matrix_temp_comma |\n",
    "list_content: SQUARE_OPEN expression list_content_temp SQUARE_CLOSE | SQUARE_OPEN SQUARE_CLOSE\n",
    "list_content_temp: COMMA expression list_content_temp |\n",
    "\n",
    "exception_handling: try_catch_finally | throw\n",
    "try_catch_finally: TRY_KEYWORD block CATCH_KEYWORD ROUND_OPEN EXCEPTION_TYPE IDENTIFIER ROUND_CLOSE block FINALLY_KEYWORD block\n",
    "throw: THROW_KEYWORD EXCEPTION_TYPE ROUND_OPEN print_args ROUND_CLOSE END_OF_STATEMENT\n",
    "\n",
    "block: CURLY_OPEN statements CURLY_CLOSE | CURLY_OPEN CURLY_CLOSE\n",
    "\n",
    "function_call: IDENTIFIER ROUND_OPEN argument_temp ROUND_CLOSE | IDENTIFIER DOT_OPERATOR IDENTIFIER ROUND_OPEN argument_temp ROUND_CLOSE\n",
    "\n",
    "return: RETURN_KEYWORD expression? END_OF_STATEMENT\n",
    "\n",
    "literal: INTEGER_CONSTANT | DECIMAL_CONSTANT | STRING_LITERAL | BOOLEAN_VALUE | NULL_KEYWORD\n",
    "\n",
    "argument_temp: COMMA argument_temp | expression argument_temp |\n",
    "\n",
    "parameters: parameter parameters_temp |\n",
    "parameter: VARIABLE_DECLARATION IDENTIFIER | LIST_DECLARATION IDENTIFIER | ARR_DECLARATION IDENTIFIER | TUPLE_DECLARATION IDENTIFIER\n",
    "parameters_temp: COMMA parameter parameters_temp | \n",
    "\n",
    "%declare STRING_LITERAL BOOLEAN_VALUE COMMA FUNCTION_DECLARATION BREAK_CONTINUE IF_ELIF ELSE_KEYWORD WHILE_KEYWORD DO_KEYWORD FOR_KEYWORD PRINT_KEYWORD RETURN_KEYWORD VARIABLE_DECLARATION LIST_DECLARATION ARR_DECLARATION TUPLE_DECLARATION EXCEPTION_TYPE NULL_KEYWORD TRY_KEYWORD CATCH_KEYWORD FINALLY_KEYWORD THROW_KEYWORD KEYWORD NOT_OPERATOR ASSIGNMENT_OPERATOR OPERATOR COMPOUND_OPERATOR UNARY_OPERATOR COMPARATOR DOT_OPERATOR PUNCTUATION END_OF_STATEMENT ROUND_OPEN ROUND_CLOSE CURLY_OPEN CURLY_CLOSE SQUARE_OPEN SQUARE_CLOSE DECIMAL_CONSTANT INTEGER_CONSTANT IDENTIFIER QUOTATION ERROR\n",
    "%import common.WS\n",
    "%ignore WS\n",
    "\"\"\""
   ]
  },
  {
   "cell_type": "code",
   "execution_count": 158,
   "metadata": {},
   "outputs": [],
   "source": [
    "from lark.lexer import Lexer, Token\n",
    "\n",
    "class MyLexer(Lexer):\n",
    "    def __init__(self, lexer_conf):\n",
    "        pass\n",
    "\n",
    "    def lex(self, data):\n",
    "        lexer = Lexer_(source_code=data)\n",
    "        lexer.tokenize()\n",
    "        tokens = lexer.get_tokens()\n",
    "        for type, value in tokens:\n",
    "            yield Token(type, value)"
   ]
  },
  {
   "cell_type": "code",
   "execution_count": 159,
   "metadata": {},
   "outputs": [
    {
     "name": "stdout",
     "output_type": "stream",
     "text": [
      "['a', '=', 'c', ';']\n",
      "+-start\n",
      "  |\n",
      "  +-statements\n",
      "    |\n",
      "    +-statement\n",
      "      |\n",
      "      +-expression_statement\n",
      "        |\n",
      "        +-assignment\n",
      "          |\n",
      "          +-a\n",
      "          |\n",
      "          +-=\n",
      "          |\n",
      "          +-expression\n",
      "            |\n",
      "            +-c\n",
      "            |\n",
      "            +-index\n",
      "        |\n",
      "        +-;\n",
      "Parsing successful.\n"
     ]
    }
   ],
   "source": [
    "parser = Lark(grammar, start='start', lexer=MyLexer, parser='lalr')\n",
    "\n",
    "input_string = \"\"\"\n",
    "a = c;\n",
    "\"\"\"\n",
    "\n",
    "def visualize_tree(tree, depth=0):\n",
    "    if isinstance(tree, Tree):\n",
    "        print(\"  \" * depth + \"+-\" + str(tree.data))\n",
    "        for child in tree.children[:-1]:\n",
    "            print(\"  \" * (depth + 1) + \"|\")\n",
    "            visualize_tree(child, depth + 1)\n",
    "        if tree.children:\n",
    "            print(\"  \" * (depth + 1) + \"|\")\n",
    "            visualize_tree(tree.children[-1], depth + 1)\n",
    "    else:\n",
    "        print(\"  \" * depth + \"+-\" + str(tree))\n",
    "\n",
    "try:\n",
    "    tree = parser.parse(input_string)\n",
    "    visualize_tree(tree)\n",
    "    print(\"Parsing successful.\")\n",
    "except Exception as e:\n",
    "    print(\"Parsing failed:\", e)"
   ]
  },
  {
   "cell_type": "code",
   "execution_count": 168,
   "metadata": {},
   "outputs": [],
   "source": [
    "import logging\n",
    "from typing import List\n",
    "logging.basicConfig()\n",
    "log = logging.getLogger(__name__)\n",
    "log.setLevel(logging.DEBUG)\n",
    "\n",
    "class ASTNode:\n",
    "    \"\"\"Abstract base class for abstract sequence of sequence of sums\"\"\"\n",
    "    def __init__(self):\n",
    "        \"\"\"This is an abstract class and should not be instantiated\"\"\"\n",
    "        this_class = self.__class__.__name__\n",
    "        if this_class == \"ASTNode\":\n",
    "            raise NotImplementedError(\"ASTNode is an abstract class and should not be instantiated\")\n",
    "        else:\n",
    "            raise NotImplementedError(f\"{this_class} is missing a constructor method\")"
   ]
  },
  {
   "cell_type": "code",
   "execution_count": 169,
   "metadata": {},
   "outputs": [],
   "source": [
    "class Statement(ASTNode):\n",
    "    pass\n",
    "\n",
    "class Statements(ASTNode):\n",
    "    def __init__(self):\n",
    "        self.statements: List[Statement] = []\n",
    "    \n",
    "    def append(self, statement: Statement):\n",
    "        self.statements.append(statement)\n",
    "\n",
    "    def __str__(self) -> str:\n",
    "        el_strs = \", \".join(str(e) for e in self.statements)\n",
    "        return f\"[{el_strs}]\"\n",
    "\n",
    "    def __repr__(self):\n",
    "        return f\"statements({repr(self.statements)})\""
   ]
  },
  {
   "cell_type": "code",
   "execution_count": 175,
   "metadata": {},
   "outputs": [],
   "source": [
    "from dataclasses import dataclass"
   ]
  },
  {
   "cell_type": "code",
   "execution_count": 396,
   "metadata": {},
   "outputs": [],
   "source": [
    "@dataclass\n",
    "class Declare(Statement):\n",
    "    pass\n",
    "\n",
    "@dataclass\n",
    "class TupleDeclaration(Declare):\n",
    "    def __init__(self):\n",
    "        self.name: str\n",
    "        self.value: List[Expression]\n",
    "\n",
    "@dataclass\n",
    "class ListDeclaration(Declare):\n",
    "    pass\n",
    "\n",
    "@dataclass\n",
    "class ArrDeclaration(Declare):\n",
    "    pass\n",
    "\n",
    "@dataclass\n",
    "class ExceptionDeclaration(Declare):\n",
    "    pass\n",
    "\n",
    "@dataclass\n",
    "class VariableDeclaration(Declare):\n",
    "    pass\n",
    "\n",
    "@dataclass\n",
    "class ExceptionHandling(Statement):\n",
    "    pass\n",
    "\n",
    "@dataclass\n",
    "class TryCatchFinally(ExceptionHandling):\n",
    "    pass\n",
    "\n",
    "@dataclass\n",
    "class Throw(ExceptionHandling):\n",
    "    pass\n",
    "\n",
    "@dataclass\n",
    "class Return(Statement):\n",
    "    pass    \n",
    "\n",
    "@dataclass\n",
    "class Control(Statement):\n",
    "    pass\n",
    "\n",
    "@dataclass\n",
    "class Function(Control):\n",
    "    pass\n",
    "\n",
    "@dataclass\n",
    "class IfElse(Control):\n",
    "    pass\n",
    "\n",
    "@dataclass\n",
    "class While(Control):\n",
    "    pass\n",
    "\n",
    "@dataclass\n",
    "class DoWhile(Control):\n",
    "    pass\n",
    "\n",
    "@dataclass\n",
    "class ForLoop(Control):\n",
    "    pass\n",
    "\n",
    "@dataclass\n",
    "class BreakContinue(Control):\n",
    "    pass\n",
    "\n",
    "@dataclass\n",
    "class ExpressionStatement(Statement):\n",
    "    pass\n",
    "\n",
    "class Expression(ASTNode):\n",
    "    def __init__(self, value):\n",
    "        self.value = value\n",
    "\n",
    "    def __str__(self):\n",
    "        return str(f'expression({self.value})')\n",
    "\n",
    "    def __repr__(self):\n",
    "        return repr(f'expression({self.value})')\n",
    "\n",
    "@dataclass\n",
    "class Print(Statement):\n",
    "    def __init__(self, *args):\n",
    "        self.args = List[Expression]\n",
    "\n",
    "    def __str__(self) -> str:\n",
    "        el_strs = \", \".join(str(e) for e in self.args)\n",
    "        return f\"print({el_strs})\"\n",
    "    \n",
    "    def __repr__(self):\n",
    "        return f\"print({repr(self.args)})\"\n",
    "\n",
    "@dataclass\n",
    "class BinaryOp(Expression):\n",
    "    pass\n",
    "\n",
    "@dataclass\n",
    "class UnaryExpression(Expression):\n",
    "    pass\n",
    "\n",
    "@dataclass\n",
    "class FunctionCall(Expression):\n",
    "    pass\n",
    "\n",
    "class Literal(Expression):\n",
    "    def __init__(self, value):\n",
    "        self.value = value\n",
    "\n",
    "    def __str__(self) -> str:\n",
    "        return str(self.value)\n",
    "    \n",
    "    def __repr__(self):\n",
    "        return f\"literal({repr(self.value)})\""
   ]
  },
  {
   "cell_type": "code",
   "execution_count": 397,
   "metadata": {},
   "outputs": [],
   "source": [
    "import lark\n",
    "\n",
    "import logging\n",
    "logging.basicConfig()\n",
    "log = logging.getLogger(__name__)\n",
    "log.setLevel(logging.DEBUG)"
   ]
  },
  {
   "cell_type": "code",
   "execution_count": 398,
   "metadata": {},
   "outputs": [],
   "source": [
    "class Transformer(lark.Transformer):\n",
    "\n",
    "    def __init__(self):\n",
    "        self.temp_args = []\n",
    "\n",
    "    def print(self, children):\n",
    "        log.debug(f\"Processing 'print' with {children}\")\n",
    "        args = children[2]\n",
    "        return Print(args)\n",
    "\n",
    "    def print_args(self, children):\n",
    "        log.debug(f\"Processing 'print_args' with {children}\")\n",
    "        return children[0]\n",
    "\n",
    "    def print_args_temp(self, children):\n",
    "        log.debug(f\"Processing 'print_args_temp' with {children}\")\n",
    "        if len(children) > 1:\n",
    "            self.temp_args.append(children[1])\n",
    "        if len(children) > 2:\n",
    "            return children[2]\n",
    "        else:\n",
    "            return []\n",
    "\n",
    "    def expression(self, children):\n",
    "        log.debug(f\"Processing 'expression' with {children}\")\n",
    "        value = children[0].value\n",
    "        return Expression(value)\n",
    "\n",
    "    def statement(self, children):\n",
    "        log.debug(f\"Processing 'statement' with {children}\")\n",
    "        return children[0]\n",
    "\n",
    "    def statements(self, children):\n",
    "        log.debug(f\"Processing 'statements' with {children}\")\n",
    "        stmts = Statements()\n",
    "        for child in children:\n",
    "            stmts.append(child)\n",
    "        return stmts\n",
    "    \n",
    "    def tuple_declaration(self, args):\n",
    "        return TupleDeclaration()\n",
    "    \n",
    "    def list_declaration(self, args):\n",
    "        return ListDeclaration()\n",
    "    \n",
    "    def arr_declaration(self, args):\n",
    "        return ArrDeclaration()\n",
    "    \n",
    "    def exception_declaration(self, args):\n",
    "        return ExceptionDeclaration()\n",
    "\n",
    "    def variable_declaration(self, args):\n",
    "        log.debug(f\"Processing Variable Declaration with {args}\")\n",
    "        return VariableDeclaration()\n",
    "    \n",
    "    def exception_handling(self, args):\n",
    "        return ExceptionHandling()\n",
    "    \n",
    "    def try_catch_finally(self, args):\n",
    "        return TryCatchFinally()\n",
    "    \n",
    "    def throw(self, args):\n",
    "        return Throw()\n",
    "    \n",
    "    def return_(self, args):\n",
    "        return Return()\n",
    "    \n",
    "    def function(self, args):\n",
    "        return Function()\n",
    "    \n",
    "    def if_else(self, args):\n",
    "        return IfElse()\n",
    "    \n",
    "    def while_(self, args):\n",
    "        return While()\n",
    "    \n",
    "    def do_while(self, args):\n",
    "        return DoWhile()\n",
    "    \n",
    "    def for_loop(self, args):\n",
    "        return ForLoop()\n",
    "    \n",
    "    def break_continue(self, args):\n",
    "        return BreakContinue()\n",
    "    \n",
    "    def binary_op(self, args):\n",
    "        return BinaryOp()\n",
    "    \n",
    "    def unary_expression(self, args):\n",
    "        return UnaryExpression()\n",
    "\n",
    "    def function_call(self, args):\n",
    "        return FunctionCall()\n",
    "    \n",
    "    def INTEGER_CONSTANT(self, args):\n",
    "        log.debug(f'INTEGER_CONSTANT - {args}')\n",
    "        return Literal(int(args))\n",
    "    \n",
    "    def DECIMAL_CONSTANT(self, args):\n",
    "        return Literal(float(args[0]))\n",
    "    \n",
    "    def STRING_LITERAL(self, args):\n",
    "        return Literal(str(args[0]))\n",
    "    \n",
    "    def BOOLEAN_VALUE(self, args):\n",
    "        return Literal(bool(args[0]))\n",
    "    \n",
    "    def NULL_KEYWORD(self, args):\n",
    "        return Literal(args[0])\n",
    "    \n",
    "    def literal(self, args):\n",
    "        log.debug(f'literal - {args}')\n",
    "        return args[0]\n",
    "    \n",
    "    def print_args(self, args):\n",
    "        log.debug(f'print_args - {args}')\n",
    "        return args\n"
   ]
  },
  {
   "cell_type": "code",
   "execution_count": 399,
   "metadata": {},
   "outputs": [
    {
     "name": "stdout",
     "output_type": "stream",
     "text": [
      "['print', '(', '3', ')', ';', 'print', '(', '4', ')', ';']\n"
     ]
    }
   ],
   "source": [
    "tree = parser.parse(\"\"\"\n",
    "print(3);\n",
    "print(4);\n",
    "\"\"\")"
   ]
  },
  {
   "cell_type": "code",
   "execution_count": 400,
   "metadata": {},
   "outputs": [
    {
     "data": {
      "text/plain": [
       "Tree(Token('RULE', 'start'), [Tree(Token('RULE', 'statements'), [Tree(Token('RULE', 'statement'), [Tree(Token('RULE', 'print'), [Token('PRINT_KEYWORD', 'print'), Token('ROUND_OPEN', '('), Tree(Token('RULE', 'print_args'), [Tree(Token('RULE', 'expression'), [Tree(Token('RULE', 'literal'), [Token('INTEGER_CONSTANT', '3')])]), Tree(Token('RULE', 'print_args_temp'), [])]), Token('ROUND_CLOSE', ')'), Token('END_OF_STATEMENT', ';')])]), Tree(Token('RULE', 'statement'), [Tree(Token('RULE', 'print'), [Token('PRINT_KEYWORD', 'print'), Token('ROUND_OPEN', '('), Tree(Token('RULE', 'print_args'), [Tree(Token('RULE', 'expression'), [Tree(Token('RULE', 'literal'), [Token('INTEGER_CONSTANT', '4')])]), Tree(Token('RULE', 'print_args_temp'), [])]), Token('ROUND_CLOSE', ')'), Token('END_OF_STATEMENT', ';')])])])])"
      ]
     },
     "execution_count": 400,
     "metadata": {},
     "output_type": "execute_result"
    }
   ],
   "source": [
    "tree"
   ]
  },
  {
   "cell_type": "code",
   "execution_count": 401,
   "metadata": {},
   "outputs": [
    {
     "name": "stderr",
     "output_type": "stream",
     "text": [
      "DEBUG:__main__:INTEGER_CONSTANT - 3\n",
      "DEBUG:__main__:literal - [literal(3)]\n",
      "DEBUG:__main__:Processing 'expression' with [literal(3)]\n",
      "DEBUG:__main__:Processing 'print_args_temp' with []\n",
      "DEBUG:__main__:print_args - ['expression(3)', []]\n",
      "DEBUG:__main__:Processing 'print' with [Token('PRINT_KEYWORD', 'print'), Token('ROUND_OPEN', '('), ['expression(3)', []], Token('ROUND_CLOSE', ')'), Token('END_OF_STATEMENT', ';')]\n",
      "DEBUG:__main__:Processing 'statement' with [print(typing.List[__main__.Expression])]\n",
      "DEBUG:__main__:INTEGER_CONSTANT - 4\n",
      "DEBUG:__main__:literal - [literal(4)]\n",
      "DEBUG:__main__:Processing 'expression' with [literal(4)]\n",
      "DEBUG:__main__:Processing 'print_args_temp' with []\n",
      "DEBUG:__main__:print_args - ['expression(4)', []]\n",
      "DEBUG:__main__:Processing 'print' with [Token('PRINT_KEYWORD', 'print'), Token('ROUND_OPEN', '('), ['expression(4)', []], Token('ROUND_CLOSE', ')'), Token('END_OF_STATEMENT', ';')]\n",
      "DEBUG:__main__:Processing 'statement' with [print(typing.List[__main__.Expression])]\n",
      "DEBUG:__main__:Processing 'statements' with [print(typing.List[__main__.Expression]), print(typing.List[__main__.Expression])]\n"
     ]
    }
   ],
   "source": [
    "transformer = Transformer()\n",
    "ast = transformer.transform(tree)"
   ]
  },
  {
   "cell_type": "code",
   "execution_count": 402,
   "metadata": {},
   "outputs": [
    {
     "data": {
      "text/plain": [
       "Tree(Token('RULE', 'start'), [Tree(Token('RULE', 'statements'), [Tree(Token('RULE', 'statement'), [Tree(Token('RULE', 'print'), [Token('PRINT_KEYWORD', 'print'), Token('ROUND_OPEN', '('), Tree(Token('RULE', 'print_args'), [Tree(Token('RULE', 'expression'), [Tree(Token('RULE', 'literal'), [Token('INTEGER_CONSTANT', '3')])]), Tree(Token('RULE', 'print_args_temp'), [])]), Token('ROUND_CLOSE', ')'), Token('END_OF_STATEMENT', ';')])]), Tree(Token('RULE', 'statement'), [Tree(Token('RULE', 'print'), [Token('PRINT_KEYWORD', 'print'), Token('ROUND_OPEN', '('), Tree(Token('RULE', 'print_args'), [Tree(Token('RULE', 'expression'), [Tree(Token('RULE', 'literal'), [Token('INTEGER_CONSTANT', '4')])]), Tree(Token('RULE', 'print_args_temp'), [])]), Token('ROUND_CLOSE', ')'), Token('END_OF_STATEMENT', ';')])])])])"
      ]
     },
     "execution_count": 402,
     "metadata": {},
     "output_type": "execute_result"
    }
   ],
   "source": [
    "tree"
   ]
  },
  {
   "cell_type": "code",
   "execution_count": 404,
   "metadata": {},
   "outputs": [
    {
     "data": {
      "text/plain": [
       "Tree(Token('RULE', 'start'), [statements([print(typing.List[__main__.Expression]), print(typing.List[__main__.Expression])])])"
      ]
     },
     "execution_count": 404,
     "metadata": {},
     "output_type": "execute_result"
    }
   ],
   "source": [
    "ast"
   ]
  },
  {
   "cell_type": "code",
   "execution_count": 380,
   "metadata": {},
   "outputs": [
    {
     "name": "stdout",
     "output_type": "stream",
     "text": [
      "+-start\n",
      "  |\n",
      "  +-[print([3, []]), print([4, []])]\n"
     ]
    }
   ],
   "source": [
    "visualize_tree(ast)"
   ]
  },
  {
   "cell_type": "code",
   "execution_count": 373,
   "metadata": {},
   "outputs": [
    {
     "data": {
      "text/plain": [
       "\"Tree(Token('RULE', 'start'), [statements([print(([3, []],)), print(([3, []],))])])\""
      ]
     },
     "execution_count": 373,
     "metadata": {},
     "output_type": "execute_result"
    }
   ],
   "source": [
    "repr(ast)"
   ]
  },
  {
   "cell_type": "code",
   "execution_count": 374,
   "metadata": {},
   "outputs": [
    {
     "name": "stdout",
     "output_type": "stream",
     "text": [
      "+-start\n",
      "  |\n",
      "  +-statements\n",
      "    |\n",
      "    +-statement\n",
      "      |\n",
      "      +-print\n",
      "        |\n",
      "        +-print\n",
      "        |\n",
      "        +-(\n",
      "        |\n",
      "        +-print_args\n",
      "          |\n",
      "          +-expression\n",
      "            |\n",
      "            +-literal\n",
      "              |\n",
      "              +-3\n",
      "          |\n",
      "          +-print_args_temp\n",
      "        |\n",
      "        +-)\n",
      "        |\n",
      "        +-;\n",
      "    |\n",
      "    +-statement\n",
      "      |\n",
      "      +-print\n",
      "        |\n",
      "        +-print\n",
      "        |\n",
      "        +-(\n",
      "        |\n",
      "        +-print_args\n",
      "          |\n",
      "          +-expression\n",
      "            |\n",
      "            +-literal\n",
      "              |\n",
      "              +-3\n",
      "          |\n",
      "          +-print_args_temp\n",
      "            |\n",
      "            +-,\n",
      "            |\n",
      "            +-expression\n",
      "              |\n",
      "              +-literal\n",
      "                |\n",
      "                +-4\n",
      "            |\n",
      "            +-print_args_temp\n",
      "        |\n",
      "        +-)\n",
      "        |\n",
      "        +-;\n"
     ]
    }
   ],
   "source": [
    "visualize_tree(tree)"
   ]
  },
  {
   "cell_type": "code",
   "execution_count": 230,
   "metadata": {},
   "outputs": [
    {
     "name": "stdout",
     "output_type": "stream",
     "text": [
      "['var', 'a', '=', '3', ';']\n"
     ]
    }
   ],
   "source": [
    "tree = parser.parse(\"\"\"\n",
    "var a = 3;\n",
    "\"\"\")"
   ]
  },
  {
   "cell_type": "code",
   "execution_count": 231,
   "metadata": {},
   "outputs": [
    {
     "name": "stderr",
     "output_type": "stream",
     "text": [
      "DEBUG:__main__:Processing Variable Declaration with [Token('VARIABLE_DECLARATION', 'var'), Token('IDENTIFIER', 'a'), Tree(Token('RULE', 'variable_declaration_temp'), []), Token('ASSIGNMENT_OPERATOR', '='), Tree(Token('RULE', 'expression'), [Tree(Token('RULE', 'literal'), [literal(3)])]), Tree(Token('RULE', 'variable_declaration_expression_temp'), []), Token('END_OF_STATEMENT', ';')]\n"
     ]
    },
    {
     "name": "stdout",
     "output_type": "stream",
     "text": [
      "+-start\n",
      "  |\n",
      "  +-statements\n",
      "    |\n",
      "    +-statement\n",
      "      |\n",
      "      +-declare\n",
      "        |\n",
      "        +-VariableDeclaration()\n"
     ]
    }
   ],
   "source": [
    "ast = transformer.transform(tree)\n",
    "visualize_tree(ast)"
   ]
  },
  {
   "cell_type": "code",
   "execution_count": null,
   "metadata": {},
   "outputs": [],
   "source": []
  }
 ],
 "metadata": {
  "kernelspec": {
   "display_name": "Python 3",
   "language": "python",
   "name": "python3"
  },
  "language_info": {
   "codemirror_mode": {
    "name": "ipython",
    "version": 3
   },
   "file_extension": ".py",
   "mimetype": "text/x-python",
   "name": "python",
   "nbconvert_exporter": "python",
   "pygments_lexer": "ipython3",
   "version": "3.11.8"
  }
 },
 "nbformat": 4,
 "nbformat_minor": 2
}
