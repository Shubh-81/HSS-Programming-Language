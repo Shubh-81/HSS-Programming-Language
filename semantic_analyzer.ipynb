{
 "cells": [
  {
   "cell_type": "code",
   "execution_count": 27,
   "metadata": {},
   "outputs": [],
   "source": [
    "from parsing import parser\n",
    "from parsing_ast import transformer\n",
    "import parsing_ast"
   ]
  },
  {
   "cell_type": "code",
   "execution_count": 324,
   "metadata": {},
   "outputs": [],
   "source": [
    "input_str = \"\"\" \n",
    "var a = True;\n",
    "if(a) {\n",
    "\n",
    "}\n",
    "\"\"\""
   ]
  },
  {
   "cell_type": "code",
   "execution_count": 325,
   "metadata": {},
   "outputs": [
    {
     "name": "stderr",
     "output_type": "stream",
     "text": [
      "DEBUG:parsing_ast:IDENTIFIER - a\n",
      "DEBUG:parsing_ast:IDENTIFIER - True\n",
      "DEBUG:parsing_ast:expression - [identifier('True')]\n",
      "DEBUG:parsing_ast:Processing Variable Declaration with [declaration_variable('var'), identifier('a'), Token('ASSIGNMENT_OPERATOR', '='), identifier('True'), Token('END_OF_STATEMENT', ';')]\n",
      "DEBUG:parsing_ast:Variable Declaration - var, [identifier('a')], [identifier('True')]\n",
      "DEBUG:parsing_ast:Processing 'declare' with [declaration(declaration_variable('var'), [identifier('a')], [identifier('True')])]\n",
      "DEBUG:parsing_ast:Processing 'statement' with [declaration(declaration_variable('var'), [identifier('a')], [identifier('True')])]\n",
      "DEBUG:parsing_ast:IDENTIFIER - a\n",
      "DEBUG:parsing_ast:expression - [identifier('a')]\n",
      "DEBUG:parsing_ast:Processing Block with [Token('CURLY_OPEN', '{'), Token('CURLY_CLOSE', '}')]\n",
      "DEBUG:parsing_ast:Processing Else Temp with []\n",
      "DEBUG:parsing_ast:Processing Control with [if_else(identifier('a'), block(None), None)]\n",
      "DEBUG:parsing_ast:Processing 'statement' with [if_else(identifier('a'), block(None), None)]\n",
      "DEBUG:parsing_ast:Processing 'statements' with [declaration(declaration_variable('var'), [identifier('a')], [identifier('True')]), if_else(identifier('a'), block(None), None)]\n"
     ]
    },
    {
     "name": "stdout",
     "output_type": "stream",
     "text": [
      "['var', 'a', '=', 'True', ';', 'if', '(', 'a', ')', '{', '}']\n"
     ]
    }
   ],
   "source": [
    "tree = parser.parse(input_str)\n",
    "ast = transformer.transform(tree)"
   ]
  },
  {
   "cell_type": "code",
   "execution_count": 326,
   "metadata": {},
   "outputs": [
    {
     "data": {
      "text/plain": [
       "statements([declaration(declaration_variable('var'), [identifier('a')], [identifier('True')]), if_else(identifier('a'), block(None), None)])"
      ]
     },
     "execution_count": 326,
     "metadata": {},
     "output_type": "execute_result"
    }
   ],
   "source": [
    "ast"
   ]
  },
  {
   "cell_type": "code",
   "execution_count": 327,
   "metadata": {},
   "outputs": [],
   "source": [
    "class Symbol(object):\n",
    "    def __init__(self, name, type=None, category=None) -> None:\n",
    "        self.name = name\n",
    "        self.type = type\n",
    "        self.category = category"
   ]
  },
  {
   "cell_type": "code",
   "execution_count": 328,
   "metadata": {},
   "outputs": [],
   "source": [
    "class BuiltinTypeSymbol(Symbol):\n",
    "    def __init__(self, name) -> None:\n",
    "        super().__init__(name)\n",
    "\n",
    "    def __str__(self) -> str:\n",
    "        return self.name\n",
    "    \n",
    "    def __repr__(self) -> str:\n",
    "        return \"<{class_name}(name='{name}')>\".format(\n",
    "            class_name=self.__class__.__name__,\n",
    "            name=self.name,\n",
    "        )"
   ]
  },
  {
   "cell_type": "code",
   "execution_count": 311,
   "metadata": {},
   "outputs": [],
   "source": [
    "class VarSymbol(Symbol):\n",
    "    def __init__(self, name, type=None, category=None) -> None:\n",
    "        super().__init__(name, type, category)\n",
    "    \n",
    "    def __str__(self) -> str:\n",
    "        return \"<{class_name}(name='{name}', type='{type}', category='{category}')>\".format(\n",
    "            class_name=self.__class__.__name__,\n",
    "            name=self.name,\n",
    "            type=self.type,\n",
    "            category=self.category\n",
    "        )\n",
    "    \n",
    "    __repr__ = __str__"
   ]
  },
  {
   "cell_type": "code",
   "execution_count": 312,
   "metadata": {},
   "outputs": [],
   "source": [
    "class SymbolTable(object):\n",
    "    def __init__(self) -> None:\n",
    "        self._symbols = {}\n",
    "        self._init_builtins()\n",
    "\n",
    "    def _init_builtins(self) -> None:\n",
    "        self.insert(BuiltinTypeSymbol('INTEGER'))\n",
    "        self.insert(BuiltinTypeSymbol('REAL'))\n",
    "        self.insert(BuiltinTypeSymbol('STRING'))\n",
    "        self.insert(BuiltinTypeSymbol('BOOLEAN'))\n",
    "        self.insert(BuiltinTypeSymbol('ARRAY'))\n",
    "        self.insert(BuiltinTypeSymbol('TUPLE'))\n",
    "        self.insert(BuiltinTypeSymbol('LIST'))\n",
    "\n",
    "    def __str__(self) -> str:\n",
    "        symtab_header = 'Symbol table contents'\n",
    "        lines = ['\\n', symtab_header, '_' * len(symtab_header)]\n",
    "        lines.extend(\n",
    "            ('%7s: %r' % (key, value))\n",
    "            for key, value in self._symbols.items()\n",
    "        )\n",
    "        lines.append('\\n')\n",
    "        s = '\\n'.join(lines)\n",
    "        return s\n",
    "    \n",
    "    __repr__ = __str__\n",
    "\n",
    "    def insert(self, symbol) -> None:\n",
    "        print('Insert: %s' % symbol.name)\n",
    "        self._symbols[symbol.name] = symbol\n",
    "\n",
    "    def lookup(self, name) -> Symbol:\n",
    "        print('Lookup: %s' % name)\n",
    "        return self._symbols.get(name, None)"
   ]
  },
  {
   "cell_type": "code",
   "execution_count": 383,
   "metadata": {},
   "outputs": [
    {
     "name": "stderr",
     "output_type": "stream",
     "text": [
      "DEBUG:parsing_ast:IDENTIFIER - add\n",
      "DEBUG:parsing_ast:IDENTIFIER - x\n",
      "DEBUG:parsing_ast:Processing Parameter with [declaration_variable('var'), identifier('x')]\n",
      "DEBUG:parsing_ast:IDENTIFIER - y\n",
      "DEBUG:parsing_ast:Processing Parameter with [declaration_variable('var'), identifier('y')]\n",
      "DEBUG:parsing_ast:Processing Parameters with [parameter(declaration_variable('var'), identifier('x')), Token('COMMA', ','), parameter(declaration_variable('var'), identifier('y'))]\n",
      "DEBUG:parsing_ast:Processing Block with [Token('CURLY_OPEN', '{'), Token('CURLY_CLOSE', '}')]\n",
      "DEBUG:parsing_ast:Processing Function with [Token('FUNCTION_DECLARATION', 'func'), identifier('add'), Token('ROUND_OPEN', '('), parameters([parameter(declaration_variable('var'), identifier('x')), parameter(declaration_variable('var'), identifier('y'))]), Token('ROUND_CLOSE', ')'), block(None)]\n",
      "DEBUG:parsing_ast:Processing Control with [function(identifier('add'), parameters([parameter(declaration_variable('var'), identifier('x')), parameter(declaration_variable('var'), identifier('y'))]), block(None))]\n",
      "DEBUG:parsing_ast:Processing 'statement' with [function(identifier('add'), parameters([parameter(declaration_variable('var'), identifier('x')), parameter(declaration_variable('var'), identifier('y'))]), block(None))]\n",
      "DEBUG:parsing_ast:IDENTIFIER - result\n",
      "DEBUG:parsing_ast:IDENTIFIER - add\n",
      "DEBUG:parsing_ast:literal - [Token('INTEGER_CONSTANT', '3')]\n",
      "DEBUG:parsing_ast:expression - [literal('3')]\n",
      "DEBUG:parsing_ast:literal - [Token('INTEGER_CONSTANT', '4')]\n",
      "DEBUG:parsing_ast:expression - [literal('4')]\n",
      "DEBUG:parsing_ast:argument_temp - [literal('3'), Token('COMMA', ','), literal('4')]\n",
      "DEBUG:parsing_ast:function_call - [identifier('add'), Token('ROUND_OPEN', '('), function_argument_list([literal('3'), literal('4')]), Token('ROUND_CLOSE', ')')]\n",
      "DEBUG:parsing_ast:expression - [function_call(identifier('add'), function_argument_list([literal('3'), literal('4')]))]\n",
      "DEBUG:parsing_ast:Processing Variable Declaration with [declaration_variable('var'), identifier('result'), Token('ASSIGNMENT_OPERATOR', '='), function_call(identifier('add'), function_argument_list([literal('3'), literal('4')])), Token('END_OF_STATEMENT', ';')]\n",
      "DEBUG:parsing_ast:Variable Declaration - var, [identifier('result')], [function_call(identifier('add'), function_argument_list([literal('3'), literal('4')]))]\n",
      "DEBUG:parsing_ast:Processing 'declare' with [declaration(declaration_variable('var'), [identifier('result')], [function_call(identifier('add'), function_argument_list([literal('3'), literal('4')]))])]\n",
      "DEBUG:parsing_ast:Processing 'statement' with [declaration(declaration_variable('var'), [identifier('result')], [function_call(identifier('add'), function_argument_list([literal('3'), literal('4')]))])]\n",
      "DEBUG:parsing_ast:Processing 'statements' with [function(identifier('add'), parameters([parameter(declaration_variable('var'), identifier('x')), parameter(declaration_variable('var'), identifier('y'))]), block(None)), declaration(declaration_variable('var'), [identifier('result')], [function_call(identifier('add'), function_argument_list([literal('3'), literal('4')]))])]\n"
     ]
    },
    {
     "name": "stdout",
     "output_type": "stream",
     "text": [
      "['func', 'add', '(', 'var', 'x', ',', 'var', 'y', ')', '{', '}', 'var', 'result', '=', 'add', '(', '3', ',', '4', ')', ';']\n"
     ]
    }
   ],
   "source": [
    "input_str = \"\"\" \n",
    "/* Function call */\n",
    "/* Function definition */\n",
    "func add(var x, var y) {\n",
    "}\n",
    "var result = add(3, 4);\n",
    "\"\"\"\n",
    "tree = parser.parse(input_str)\n",
    "ast = transformer.transform(tree)"
   ]
  },
  {
   "cell_type": "code",
   "execution_count": 387,
   "metadata": {},
   "outputs": [
    {
     "name": "stdout",
     "output_type": "stream",
     "text": [
      "Insert: INTEGER\n",
      "Insert: REAL\n",
      "Insert: STRING\n",
      "Insert: BOOLEAN\n",
      "Insert: ARRAY\n",
      "Insert: TUPLE\n"
     ]
    }
   ],
   "source": [
    "symbol_table = SymbolTable()"
   ]
  },
  {
   "cell_type": "code",
   "execution_count": 388,
   "metadata": {},
   "outputs": [],
   "source": [
    "def traverse_ast(node, indent=\"\", last=True):\n",
    "    if isinstance(node, list):\n",
    "        for idx, item in enumerate(node):\n",
    "            if idx == len(node) - 1:\n",
    "                traverse_ast(item, indent, last=True)\n",
    "            else:\n",
    "                traverse_ast(item, indent, last=False)\n",
    "        return\n",
    "    print(type(node))\n",
    "    if type(node) == parsing_ast.Function:\n",
    "        if symbol_table.lookup(node.name.name):\n",
    "            raise Exception('Error: Duplicate Function Declaration: %s' % node.name.name)\n",
    "        symbol_table.insert(VarSymbol(node.name.name, 'function'))\n",
    "    if isinstance(node, parsing_ast.InbuiltFunctionCall):\n",
    "        if not symbol_table.lookup(node.base.name):\n",
    "            raise Exception('Error: Symbol not found: %s' % node.base.name)\n",
    "    if type(node) == parsing_ast.FunctionCall:\n",
    "        if not symbol_table.lookup(node.name.name):\n",
    "            raise Exception('Error: Symbol not found: %s' % node.name.name)\n",
    "    if isinstance(node, parsing_ast.VariableDeclaration):\n",
    "        for name in node.identifier:\n",
    "            if symbol_table.lookup(name.name):\n",
    "                raise Exception('Error: Duplicate identifier found: %s' % name.name)\n",
    "            symbol_table.insert(VarSymbol(name.name, node.declaration_type.value))\n",
    "    if isinstance(node, parsing_ast.Declaration):\n",
    "        if symbol_table.lookup(node.identifier.name):\n",
    "            raise Exception('Error: Duplicate identifier found: %s' % node.identifier.name)\n",
    "        symbol_table.insert(VarSymbol(node.identifier.name, node.declaration_type.value))\n",
    "    if isinstance(node, parsing_ast.Assignment):\n",
    "        if not symbol_table.lookup(node.identifier.name):\n",
    "            raise Exception('Error: Symbol not found: %s' % node.identifier.name)\n",
    "    if type(node) == parsing_ast.FunctionArgumentList:\n",
    "        for arg in node.arguments:\n",
    "            if isinstance(arg, parsing_ast.Identifier) and not symbol_table.lookup(arg.name):\n",
    "                raise Exception('Error: Symbol not found: %s' % arg.name)\n",
    "    if type(node) == parsing_ast.PrintArgumentList:\n",
    "        for arg in node.arguments:\n",
    "            if isinstance(arg, parsing_ast.Identifier) and not symbol_table.lookup(arg.name):\n",
    "                raise Exception('Error: Symbol not found: %s' % arg.name)\n",
    "    if type(node) == parsing_ast.IfElse:\n",
    "        if isinstance(node.expression, parsing_ast.Identifier) and not symbol_table.lookup(node.expression.name):\n",
    "            raise Exception('Error: Symbol not found: %s' % node.expression.name)\n",
    "    if type(node) == parsing_ast.While:\n",
    "        if isinstance(node.expression, parsing_ast.Identifier) and not symbol_table.lookup(node.expression.name):\n",
    "            raise Exception('Error: Symbol not found: %s' % node.expression.name)\n",
    "    if type(node) == parsing_ast.DoWhile:\n",
    "        if isinstance(node.expression, parsing_ast.Identifier) and not symbol_table.lookup(node.expression.name):\n",
    "            raise Exception('Error: Symbol not found: %s' % node.expression.name)\n",
    "    if type(node) == parsing_ast.BinaryOp:\n",
    "        if isinstance(node.children[0], parsing_ast.Identifier) and not symbol_table.lookup(node.children[0].name):\n",
    "            raise Exception('Error: Symbol not found: %s' % node.children[0].name)\n",
    "        if isinstance(node.children[1], parsing_ast.Identifier) and not symbol_table.lookup(node.children[1].name):\n",
    "            raise Exception('Error: Symbol not found: %s' % node.children[1].name)\n",
    "    if type(node) == parsing_ast.UnaryExpression:\n",
    "        if isinstance(node.children[0], parsing_ast.Identifier) and not symbol_table.lookup(node.children[0].name):\n",
    "            raise Exception('Error: Symbol not found: %s' % node.children[0].name)\n",
    "        if isinstance(node.operator, parsing_ast.Identifier) and not symbol_table.lookup(node.operator.name):\n",
    "            raise Exception('Error: Symbol not found: %s' % node.operator.name)\n",
    "    if not hasattr(node, '__dict__'):\n",
    "        return \n",
    "    children = [(k, v) for k, v in node.__dict__.items() if not k.startswith('_') and v]\n",
    "    for idx, (attr, child) in enumerate(children):\n",
    "        is_last = idx == len(children) - 1\n",
    "        traverse_ast(child, last=is_last)"
   ]
  },
  {
   "cell_type": "code",
   "execution_count": 389,
   "metadata": {},
   "outputs": [
    {
     "name": "stdout",
     "output_type": "stream",
     "text": [
      "<class 'parsing_ast.Statements'>\n",
      "<class 'parsing_ast.Function'>\n",
      "Lookup: add\n",
      "Insert: add\n",
      "<class 'parsing_ast.Identifier'>\n",
      "<class 'str'>\n",
      "<class 'parsing_ast.Parameters'>\n",
      "<class 'parsing_ast.Parameter'>\n",
      "<class 'parsing_ast.DeclarationVariable'>\n",
      "<class 'str'>\n",
      "<class 'parsing_ast.Identifier'>\n",
      "<class 'str'>\n",
      "<class 'parsing_ast.Parameter'>\n",
      "<class 'parsing_ast.DeclarationVariable'>\n",
      "<class 'str'>\n",
      "<class 'parsing_ast.Identifier'>\n",
      "<class 'str'>\n",
      "<class 'parsing_ast.Block'>\n",
      "<class 'parsing_ast.VariableDeclaration'>\n",
      "Lookup: result\n",
      "Insert: result\n",
      "<class 'parsing_ast.DeclarationVariable'>\n",
      "<class 'str'>\n",
      "<class 'parsing_ast.Identifier'>\n",
      "<class 'str'>\n",
      "<class 'parsing_ast.FunctionCall'>\n",
      "Lookup: add\n",
      "<class 'parsing_ast.Identifier'>\n",
      "<class 'str'>\n",
      "<class 'parsing_ast.FunctionArgumentList'>\n",
      "<class 'parsing_ast.Literal'>\n",
      "<class 'str'>\n",
      "<class 'parsing_ast.Literal'>\n",
      "<class 'str'>\n"
     ]
    }
   ],
   "source": [
    "traverse_ast(ast)"
   ]
  },
  {
   "cell_type": "code",
   "execution_count": 337,
   "metadata": {},
   "outputs": [
    {
     "name": "stdout",
     "output_type": "stream",
     "text": [
      "Lookup: i\n"
     ]
    },
    {
     "data": {
      "text/plain": [
       "<VarSymbol(name='i', type='var', category='None')>"
      ]
     },
     "execution_count": 337,
     "metadata": {},
     "output_type": "execute_result"
    }
   ],
   "source": [
    "symbol = symbol_table.lookup('i')\n",
    "symbol"
   ]
  },
  {
   "cell_type": "code",
   "execution_count": 355,
   "metadata": {},
   "outputs": [
    {
     "data": {
      "text/plain": [
       "{'INTEGER': <BuiltinTypeSymbol(name='INTEGER')>,\n",
       " 'REAL': <BuiltinTypeSymbol(name='REAL')>,\n",
       " 'STRING': <BuiltinTypeSymbol(name='STRING')>,\n",
       " 'BOOLEAN': <BuiltinTypeSymbol(name='BOOLEAN')>,\n",
       " 'ARRAY': <BuiltinTypeSymbol(name='ARRAY')>,\n",
       " 'TUPLE': <BuiltinTypeSymbol(name='TUPLE')>,\n",
       " 'i': <VarSymbol(name='i', type='var', category='None')>}"
      ]
     },
     "execution_count": 355,
     "metadata": {},
     "output_type": "execute_result"
    }
   ],
   "source": [
    "symbol_table._symbols"
   ]
  },
  {
   "cell_type": "code",
   "execution_count": 158,
   "metadata": {},
   "outputs": [],
   "source": [
    "def a():\n",
    "    print('a')\n",
    "\n",
    "a = 5"
   ]
  },
  {
   "cell_type": "code",
   "execution_count": null,
   "metadata": {},
   "outputs": [],
   "source": []
  }
 ],
 "metadata": {
  "kernelspec": {
   "display_name": "Python 3",
   "language": "python",
   "name": "python3"
  },
  "language_info": {
   "codemirror_mode": {
    "name": "ipython",
    "version": 3
   },
   "file_extension": ".py",
   "mimetype": "text/x-python",
   "name": "python",
   "nbconvert_exporter": "python",
   "pygments_lexer": "ipython3",
   "version": "3.11.8"
  }
 },
 "nbformat": 4,
 "nbformat_minor": 2
}
