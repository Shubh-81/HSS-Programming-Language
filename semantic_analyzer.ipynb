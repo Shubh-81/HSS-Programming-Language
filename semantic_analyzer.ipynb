{
 "cells": [
  {
   "cell_type": "code",
   "execution_count": 27,
   "metadata": {},
   "outputs": [],
   "source": [
    "from parsing import parser\n",
    "from parsing_ast import transformer\n",
    "import parsing_ast"
   ]
  },
  {
   "cell_type": "code",
   "execution_count": 132,
   "metadata": {},
   "outputs": [],
   "source": [
    "input_str = \"\"\" \n",
    "a = 10;\n",
    "\"\"\""
   ]
  },
  {
   "cell_type": "code",
   "execution_count": 133,
   "metadata": {},
   "outputs": [
    {
     "name": "stderr",
     "output_type": "stream",
     "text": [
      "DEBUG:parsing_ast:IDENTIFIER - a\n",
      "DEBUG:parsing_ast:literal - [Token('INTEGER_CONSTANT', '10')]\n",
      "DEBUG:parsing_ast:expression - [literal('10')]\n",
      "DEBUG:parsing_ast:expression_statement - [assignment(identifier('a'), literal('10')), Token('END_OF_STATEMENT', ';')]\n",
      "DEBUG:parsing_ast:Processing 'statement' with [assignment(identifier('a'), literal('10'))]\n",
      "DEBUG:parsing_ast:Processing 'statements' with [assignment(identifier('a'), literal('10'))]\n"
     ]
    },
    {
     "name": "stdout",
     "output_type": "stream",
     "text": [
      "['a', '=', '10', ';']\n"
     ]
    }
   ],
   "source": [
    "tree = parser.parse(input_str)\n",
    "ast = transformer.transform(tree)"
   ]
  },
  {
   "cell_type": "code",
   "execution_count": 134,
   "metadata": {},
   "outputs": [
    {
     "data": {
      "text/plain": [
       "statements([assignment(identifier('a'), literal('10'))])"
      ]
     },
     "execution_count": 134,
     "metadata": {},
     "output_type": "execute_result"
    }
   ],
   "source": [
    "ast"
   ]
  },
  {
   "cell_type": "code",
   "execution_count": 135,
   "metadata": {},
   "outputs": [],
   "source": [
    "class Symbol(object):\n",
    "    def __init__(self, name, type=None, category=None) -> None:\n",
    "        self.name = name\n",
    "        self.type = type\n",
    "        self.category = category"
   ]
  },
  {
   "cell_type": "code",
   "execution_count": 136,
   "metadata": {},
   "outputs": [],
   "source": [
    "class BuiltinTypeSymbol(Symbol):\n",
    "    def __init__(self, name) -> None:\n",
    "        super().__init__(name)\n",
    "\n",
    "    def __str__(self) -> str:\n",
    "        return self.name\n",
    "    \n",
    "    def __repr__(self) -> str:\n",
    "        return \"<{class_name}(name='{name}')>\".format(\n",
    "            class_name=self.__class__.__name__,\n",
    "            name=self.name,\n",
    "        )"
   ]
  },
  {
   "cell_type": "code",
   "execution_count": 137,
   "metadata": {},
   "outputs": [],
   "source": [
    "class VarSymbol(Symbol):\n",
    "    def __init__(self, name, type=None, category=None) -> None:\n",
    "        super().__init__(name, type, category)\n",
    "    \n",
    "    def __str__(self) -> str:\n",
    "        return \"<{class_name}(name='{name}', type='{type}', category='{category}')>\".format(\n",
    "            class_name=self.__class__.__name__,\n",
    "            name=self.name,\n",
    "            type=self.type,\n",
    "            category=self.category\n",
    "        )\n",
    "    \n",
    "    __repr__ = __str__"
   ]
  },
  {
   "cell_type": "code",
   "execution_count": 138,
   "metadata": {},
   "outputs": [],
   "source": [
    "class SymbolTable(object):\n",
    "    def __init__(self) -> None:\n",
    "        self._symbols = {}\n",
    "        self._init_builtins()\n",
    "\n",
    "    def _init_builtins(self) -> None:\n",
    "        self.insert(BuiltinTypeSymbol('INTEGER'))\n",
    "        self.insert(BuiltinTypeSymbol('REAL'))\n",
    "        self.insert(BuiltinTypeSymbol('STRING'))\n",
    "        self.insert(BuiltinTypeSymbol('BOOLEAN'))\n",
    "\n",
    "    def __str__(self) -> str:\n",
    "        symtab_header = 'Symbol table contents'\n",
    "        lines = ['\\n', symtab_header, '_' * len(symtab_header)]\n",
    "        lines.extend(\n",
    "            ('%7s: %r' % (key, value))\n",
    "            for key, value in self._symbols.items()\n",
    "        )\n",
    "        lines.append('\\n')\n",
    "        s = '\\n'.join(lines)\n",
    "        return s\n",
    "    \n",
    "    __repr__ = __str__\n",
    "\n",
    "    def insert(self, symbol) -> None:\n",
    "        print('Insert: %s' % symbol.name)\n",
    "        self._symbols[symbol.name] = symbol\n",
    "\n",
    "    def lookup(self, name) -> Symbol:\n",
    "        print('Lookup: %s' % name)\n",
    "        return self._symbols.get(name, None)"
   ]
  },
  {
   "cell_type": "code",
   "execution_count": 139,
   "metadata": {},
   "outputs": [
    {
     "name": "stdout",
     "output_type": "stream",
     "text": [
      "Insert: INTEGER\n",
      "Insert: REAL\n",
      "Insert: STRING\n",
      "Insert: BOOLEAN\n"
     ]
    }
   ],
   "source": [
    "symbol_table = SymbolTable()"
   ]
  },
  {
   "cell_type": "code",
   "execution_count": 142,
   "metadata": {},
   "outputs": [],
   "source": [
    "def traverse_ast(node, indent=\"\", last=True):\n",
    "    if isinstance(node, list):\n",
    "        for idx, item in enumerate(node):\n",
    "            if idx == len(node) - 1:\n",
    "                traverse_ast(item, indent, last=True)\n",
    "            else:\n",
    "                traverse_ast(item, indent, last=False)\n",
    "        return\n",
    "    print(type(node))\n",
    "    if isinstance(node, parsing_ast.VariableDeclaration):\n",
    "        for name in node.identifier:\n",
    "            if symbol_table.lookup(name.name):\n",
    "                raise Exception('Error: Duplicate identifier found: %s' % name.name)\n",
    "            symbol_table.insert(VarSymbol(name.name, node.declaration_type.value))\n",
    "    if isinstance(node, parsing_ast.Declaration):\n",
    "        if symbol_table.lookup(node.identifier.name):\n",
    "            raise Exception('Error: Duplicate identifier found: %s' % node.identifier.name)\n",
    "        symbol_table.insert(VarSymbol(node.identifier.name, node.declaration_type.value))\n",
    "    if isinstance(node, parsing_ast.Assignment):\n",
    "        if not symbol_table.lookup(node.identifier.name):\n",
    "            raise Exception('Error: Symbol not found: %s' % node.identifier.name)\n",
    "    if not hasattr(node, '__dict__'):\n",
    "        return \n",
    "    children = [(k, v) for k, v in node.__dict__.items() if not k.startswith('_') and v]\n",
    "    for idx, (attr, child) in enumerate(children):\n",
    "        is_last = idx == len(children) - 1\n",
    "        traverse_ast(child, last=is_last)"
   ]
  },
  {
   "cell_type": "code",
   "execution_count": 143,
   "metadata": {},
   "outputs": [
    {
     "name": "stdout",
     "output_type": "stream",
     "text": [
      "<class 'parsing_ast.Statements'>\n",
      "<class 'parsing_ast.Assignment'>\n",
      "Lookup: a\n"
     ]
    },
    {
     "ename": "Exception",
     "evalue": "Error: Symbol not found: a",
     "output_type": "error",
     "traceback": [
      "\u001b[0;31m---------------------------------------------------------------------------\u001b[0m",
      "\u001b[0;31mException\u001b[0m                                 Traceback (most recent call last)",
      "Cell \u001b[0;32mIn[143], line 1\u001b[0m\n\u001b[0;32m----> 1\u001b[0m \u001b[43mtraverse_ast\u001b[49m\u001b[43m(\u001b[49m\u001b[43mast\u001b[49m\u001b[43m)\u001b[49m\n",
      "Cell \u001b[0;32mIn[142], line 27\u001b[0m, in \u001b[0;36mtraverse_ast\u001b[0;34m(node, indent, last)\u001b[0m\n\u001b[1;32m     25\u001b[0m \u001b[38;5;28;01mfor\u001b[39;00m idx, (attr, child) \u001b[38;5;129;01min\u001b[39;00m \u001b[38;5;28menumerate\u001b[39m(children):\n\u001b[1;32m     26\u001b[0m     is_last \u001b[38;5;241m=\u001b[39m idx \u001b[38;5;241m==\u001b[39m \u001b[38;5;28mlen\u001b[39m(children) \u001b[38;5;241m-\u001b[39m \u001b[38;5;241m1\u001b[39m\n\u001b[0;32m---> 27\u001b[0m     \u001b[43mtraverse_ast\u001b[49m\u001b[43m(\u001b[49m\u001b[43mchild\u001b[49m\u001b[43m,\u001b[49m\u001b[43m \u001b[49m\u001b[43mlast\u001b[49m\u001b[38;5;241;43m=\u001b[39;49m\u001b[43mis_last\u001b[49m\u001b[43m)\u001b[49m\n",
      "Cell \u001b[0;32mIn[142], line 5\u001b[0m, in \u001b[0;36mtraverse_ast\u001b[0;34m(node, indent, last)\u001b[0m\n\u001b[1;32m      3\u001b[0m \u001b[38;5;28;01mfor\u001b[39;00m idx, item \u001b[38;5;129;01min\u001b[39;00m \u001b[38;5;28menumerate\u001b[39m(node):\n\u001b[1;32m      4\u001b[0m     \u001b[38;5;28;01mif\u001b[39;00m idx \u001b[38;5;241m==\u001b[39m \u001b[38;5;28mlen\u001b[39m(node) \u001b[38;5;241m-\u001b[39m \u001b[38;5;241m1\u001b[39m:\n\u001b[0;32m----> 5\u001b[0m         \u001b[43mtraverse_ast\u001b[49m\u001b[43m(\u001b[49m\u001b[43mitem\u001b[49m\u001b[43m,\u001b[49m\u001b[43m \u001b[49m\u001b[43mindent\u001b[49m\u001b[43m,\u001b[49m\u001b[43m \u001b[49m\u001b[43mlast\u001b[49m\u001b[38;5;241;43m=\u001b[39;49m\u001b[38;5;28;43;01mTrue\u001b[39;49;00m\u001b[43m)\u001b[49m\n\u001b[1;32m      6\u001b[0m     \u001b[38;5;28;01melse\u001b[39;00m:\n\u001b[1;32m      7\u001b[0m         traverse_ast(item, indent, last\u001b[38;5;241m=\u001b[39m\u001b[38;5;28;01mFalse\u001b[39;00m)\n",
      "Cell \u001b[0;32mIn[142], line 21\u001b[0m, in \u001b[0;36mtraverse_ast\u001b[0;34m(node, indent, last)\u001b[0m\n\u001b[1;32m     19\u001b[0m \u001b[38;5;28;01mif\u001b[39;00m \u001b[38;5;28misinstance\u001b[39m(node, parsing_ast\u001b[38;5;241m.\u001b[39mAssignment):\n\u001b[1;32m     20\u001b[0m     \u001b[38;5;28;01mif\u001b[39;00m \u001b[38;5;129;01mnot\u001b[39;00m symbol_table\u001b[38;5;241m.\u001b[39mlookup(node\u001b[38;5;241m.\u001b[39midentifier\u001b[38;5;241m.\u001b[39mname):\n\u001b[0;32m---> 21\u001b[0m         \u001b[38;5;28;01mraise\u001b[39;00m \u001b[38;5;167;01mException\u001b[39;00m(\u001b[38;5;124m'\u001b[39m\u001b[38;5;124mError: Symbol not found: \u001b[39m\u001b[38;5;132;01m%s\u001b[39;00m\u001b[38;5;124m'\u001b[39m \u001b[38;5;241m%\u001b[39m node\u001b[38;5;241m.\u001b[39midentifier\u001b[38;5;241m.\u001b[39mname)\n\u001b[1;32m     22\u001b[0m \u001b[38;5;28;01mif\u001b[39;00m \u001b[38;5;129;01mnot\u001b[39;00m \u001b[38;5;28mhasattr\u001b[39m(node, \u001b[38;5;124m'\u001b[39m\u001b[38;5;124m__dict__\u001b[39m\u001b[38;5;124m'\u001b[39m):\n\u001b[1;32m     23\u001b[0m     \u001b[38;5;28;01mreturn\u001b[39;00m \n",
      "\u001b[0;31mException\u001b[0m: Error: Symbol not found: a"
     ]
    }
   ],
   "source": [
    "traverse_ast(ast)"
   ]
  },
  {
   "cell_type": "code",
   "execution_count": 109,
   "metadata": {},
   "outputs": [
    {
     "name": "stdout",
     "output_type": "stream",
     "text": [
      "Lookup: i\n"
     ]
    },
    {
     "data": {
      "text/plain": [
       "<VarSymbol(name='i', type='var', category='None')>"
      ]
     },
     "execution_count": 109,
     "metadata": {},
     "output_type": "execute_result"
    }
   ],
   "source": [
    "symbol = symbol_table.lookup('i')\n",
    "symbol"
   ]
  },
  {
   "cell_type": "code",
   "execution_count": 144,
   "metadata": {},
   "outputs": [
    {
     "data": {
      "text/plain": [
       "{'INTEGER': <BuiltinTypeSymbol(name='INTEGER')>,\n",
       " 'REAL': <BuiltinTypeSymbol(name='REAL')>,\n",
       " 'STRING': <BuiltinTypeSymbol(name='STRING')>,\n",
       " 'BOOLEAN': <BuiltinTypeSymbol(name='BOOLEAN')>}"
      ]
     },
     "execution_count": 144,
     "metadata": {},
     "output_type": "execute_result"
    }
   ],
   "source": [
    "symbol_table._symbols"
   ]
  },
  {
   "cell_type": "code",
   "execution_count": null,
   "metadata": {},
   "outputs": [],
   "source": []
  }
 ],
 "metadata": {
  "kernelspec": {
   "display_name": "Python 3",
   "language": "python",
   "name": "python3"
  },
  "language_info": {
   "codemirror_mode": {
    "name": "ipython",
    "version": 3
   },
   "file_extension": ".py",
   "mimetype": "text/x-python",
   "name": "python",
   "nbconvert_exporter": "python",
   "pygments_lexer": "ipython3",
   "version": "3.11.8"
  }
 },
 "nbformat": 4,
 "nbformat_minor": 2
}
