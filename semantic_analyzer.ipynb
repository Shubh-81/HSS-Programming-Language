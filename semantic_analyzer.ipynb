{
 "cells": [
  {
   "cell_type": "code",
   "execution_count": 1,
   "metadata": {},
   "outputs": [],
   "source": [
    "from parsing import parser\n",
    "from parsing_ast import transformer\n",
    "import parsing_ast"
   ]
  },
  {
   "cell_type": "code",
   "execution_count": 5,
   "metadata": {},
   "outputs": [],
   "source": [
    "input_str = \"\"\" \n",
    "var a = true;\n",
    "if(a) {\n",
    "\n",
    "}\n",
    "\"\"\""
   ]
  },
  {
   "cell_type": "code",
   "execution_count": 6,
   "metadata": {},
   "outputs": [
    {
     "name": "stderr",
     "output_type": "stream",
     "text": [
      "DEBUG:parsing_ast:IDENTIFIER - a\n",
      "DEBUG:parsing_ast:literal - [Token('BOOLEAN_VALUE', 'true')]\n",
      "DEBUG:parsing_ast:expression - [literal('true')]\n",
      "DEBUG:parsing_ast:Processing Variable Declaration with [declaration_variable('var'), identifier('a'), Token('ASSIGNMENT_OPERATOR', '='), literal('true'), Token('END_OF_STATEMENT', ';')]\n",
      "DEBUG:parsing_ast:Variable Declaration - var, [identifier('a')], [literal('true')]\n",
      "DEBUG:parsing_ast:Processing 'declare' with [declaration(declaration_variable('var'), [identifier('a')], [literal('true')])]\n",
      "DEBUG:parsing_ast:Processing 'statement' with [declaration(declaration_variable('var'), [identifier('a')], [literal('true')])]\n",
      "DEBUG:parsing_ast:IDENTIFIER - a\n",
      "DEBUG:parsing_ast:expression - [identifier('a')]\n",
      "DEBUG:parsing_ast:Processing Block with [Token('CURLY_OPEN', '{'), Token('CURLY_CLOSE', '}')]\n",
      "DEBUG:parsing_ast:Processing Else Temp with []\n",
      "DEBUG:parsing_ast:Processing Control with [if_else(identifier('a'), block(None), None)]\n",
      "DEBUG:parsing_ast:Processing 'statement' with [if_else(identifier('a'), block(None), None)]\n",
      "DEBUG:parsing_ast:Processing 'statements' with [declaration(declaration_variable('var'), [identifier('a')], [literal('true')]), if_else(identifier('a'), block(None), None)]\n"
     ]
    },
    {
     "name": "stdout",
     "output_type": "stream",
     "text": [
      "['var', 'a', '=', 'true', ';', 'if', '(', 'a', ')', '{', '}']\n"
     ]
    }
   ],
   "source": [
    "tree = parser.parse(input_str)\n",
    "ast = transformer.transform(tree)"
   ]
  },
  {
   "cell_type": "code",
   "execution_count": 7,
   "metadata": {},
   "outputs": [
    {
     "data": {
      "text/plain": [
       "statements([declaration(declaration_variable('var'), [identifier('a')], [literal('true')]), if_else(identifier('a'), block(None), None)])"
      ]
     },
     "execution_count": 7,
     "metadata": {},
     "output_type": "execute_result"
    }
   ],
   "source": [
    "ast"
   ]
  },
  {
   "cell_type": "code",
   "execution_count": 8,
   "metadata": {},
   "outputs": [],
   "source": [
    "class Symbol(object):\n",
    "    def __init__(self, name, type=None, category=None) -> None:\n",
    "        self.name = name\n",
    "        self.type = type\n",
    "        self.category = category"
   ]
  },
  {
   "cell_type": "code",
   "execution_count": 9,
   "metadata": {},
   "outputs": [],
   "source": [
    "class BuiltinTypeSymbol(Symbol):\n",
    "    def __init__(self, name) -> None:\n",
    "        super().__init__(name)\n",
    "\n",
    "    def __str__(self) -> str:\n",
    "        return self.name\n",
    "    \n",
    "    def __repr__(self) -> str:\n",
    "        return \"<{class_name}(name='{name}')>\".format(\n",
    "            class_name=self.__class__.__name__,\n",
    "            name=self.name,\n",
    "        )"
   ]
  },
  {
   "cell_type": "code",
   "execution_count": 10,
   "metadata": {},
   "outputs": [],
   "source": [
    "class VarSymbol(Symbol):\n",
    "    def __init__(self, name, type=None, category=None) -> None:\n",
    "        super().__init__(name, type, category)\n",
    "    \n",
    "    def __str__(self) -> str:\n",
    "        return \"<{class_name}(name='{name}', type='{type}', category='{category}')>\".format(\n",
    "            class_name=self.__class__.__name__,\n",
    "            name=self.name,\n",
    "            type=self.type,\n",
    "            category=self.category\n",
    "        )\n",
    "    \n",
    "    __repr__ = __str__"
   ]
  },
  {
   "cell_type": "code",
   "execution_count": 13,
   "metadata": {},
   "outputs": [],
   "source": [
    "class SymbolTable(object):\n",
    "    def __init__(self) -> None:\n",
    "        self._symbols = {}\n",
    "        self._init_builtins()\n",
    "\n",
    "    def _init_builtins(self) -> None:\n",
    "        self.insert(BuiltinTypeSymbol('INTEGER_CONSTANT'))\n",
    "        self.insert(BuiltinTypeSymbol('DECIMAL_CONSTANT'))\n",
    "        self.insert(BuiltinTypeSymbol('STRING_LITERAL'))\n",
    "        self.insert(BuiltinTypeSymbol('BOOLEAN_VALUE'))\n",
    "        self.insert(BuiltinTypeSymbol('NULL_VALUE'))\n",
    "        self.insert(BuiltinTypeSymbol('ARRAY'))\n",
    "        self.insert(BuiltinTypeSymbol('TUPLE'))\n",
    "        self.insert(BuiltinTypeSymbol('LIST'))\n",
    "\n",
    "    def __str__(self) -> str:\n",
    "        symtab_header = 'Symbol table contents'\n",
    "        lines = ['\\n', symtab_header, '_' * len(symtab_header)]\n",
    "        lines.extend(\n",
    "            ('%7s: %r' % (key, value))\n",
    "            for key, value in self._symbols.items()\n",
    "        )\n",
    "        lines.append('\\n')\n",
    "        s = '\\n'.join(lines)\n",
    "        return s\n",
    "    \n",
    "    __repr__ = __str__\n",
    "\n",
    "    def insert(self, symbol) -> None:\n",
    "        print('Insert: %s' % symbol.name)\n",
    "        self._symbols[symbol.name] = symbol\n",
    "\n",
    "    def lookup(self, name) -> Symbol:\n",
    "        print('Lookup: %s' % name)\n",
    "        return self._symbols.get(name, None)"
   ]
  },
  {
   "cell_type": "code",
   "execution_count": 175,
   "metadata": {},
   "outputs": [
    {
     "name": "stderr",
     "output_type": "stream",
     "text": [
      "DEBUG:parsing_ast:IDENTIFIER - a\n",
      "DEBUG:parsing_ast:literal - [Token('INTEGER_CONSTANT', '1')]\n",
      "DEBUG:parsing_ast:expression - [literal('1')]\n",
      "DEBUG:parsing_ast:Processing Variable Declaration with [declaration_variable('var'), identifier('a'), Token('ASSIGNMENT_OPERATOR', '='), literal('1'), Token('END_OF_STATEMENT', ';')]\n",
      "DEBUG:parsing_ast:Variable Declaration - var, [identifier('a')], [literal('1')]\n",
      "DEBUG:parsing_ast:Processing 'declare' with [declaration(declaration_variable('var'), [identifier('a')], [literal('1')])]\n",
      "DEBUG:parsing_ast:Processing 'statement' with [declaration(declaration_variable('var'), [identifier('a')], [literal('1')])]\n",
      "DEBUG:parsing_ast:IDENTIFIER - a\n",
      "DEBUG:parsing_ast:IDENTIFIER - a\n",
      "DEBUG:parsing_ast:unary_expression - [identifier('a'), unary_operator('++')]\n",
      "DEBUG:parsing_ast:expression - [unary_expression(identifier('a'), unary_operator('++'))]\n",
      "DEBUG:parsing_ast:expression_statement - [assignment(identifier('a'), unary_expression(identifier('a'), unary_operator('++'))), Token('END_OF_STATEMENT', ';')]\n",
      "DEBUG:parsing_ast:Processing 'statement' with [assignment(identifier('a'), unary_expression(identifier('a'), unary_operator('++')))]\n",
      "DEBUG:parsing_ast:Processing 'statements' with [declaration(declaration_variable('var'), [identifier('a')], [literal('1')]), assignment(identifier('a'), unary_expression(identifier('a'), unary_operator('++')))]\n"
     ]
    },
    {
     "name": "stdout",
     "output_type": "stream",
     "text": [
      "['var', 'a', '=', '1', ';', 'a', '=', 'a', '++', ';']\n"
     ]
    }
   ],
   "source": [
    "input_str = \"\"\" \n",
    "var a = 1;\n",
    "a = a++;\n",
    "\"\"\"\n",
    "tree = parser.parse(input_str)\n",
    "ast = transformer.transform(tree)"
   ]
  },
  {
   "cell_type": "code",
   "execution_count": null,
   "metadata": {},
   "outputs": [],
   "source": []
  },
  {
   "cell_type": "code",
   "execution_count": 176,
   "metadata": {},
   "outputs": [
    {
     "name": "stdout",
     "output_type": "stream",
     "text": [
      "Insert: INTEGER_CONSTANT\n",
      "Insert: DECIMAL_CONSTANT\n",
      "Insert: STRING_LITERAL\n",
      "Insert: BOOLEAN_VALUE\n",
      "Insert: NULL_VALUE\n",
      "Insert: ARRAY\n",
      "Insert: TUPLE\n",
      "Insert: LIST\n"
     ]
    }
   ],
   "source": [
    "symbol_table = SymbolTable()\n",
    "symbol_stack = [symbol_table]"
   ]
  },
  {
   "cell_type": "code",
   "execution_count": 177,
   "metadata": {},
   "outputs": [],
   "source": [
    "def deduce_type(node, symbol_table):\n",
    "    if isinstance(node, parsing_ast.BinaryOp):\n",
    "        left_type = deduce_type(node.children[0], symbol_table)\n",
    "        right_type = deduce_type(node.children[1], symbol_table)\n",
    "        if isinstance(node.operator, parsing_ast.Operator):\n",
    "            if node.operator.operator in ['+','+=']:\n",
    "                if left_type.name == 'STRING_LITERAL' and right_type.name == 'STRING_LITERAL':\n",
    "                    return symbol_table.lookup('STRING_LITERAL')\n",
    "                if left_type.name == 'INTEGER_CONSTANT' and right_type.name == 'INTEGER_CONSTANT':\n",
    "                    return symbol_table.lookup('INTEGER_CONSTANT')\n",
    "                if left_type.name == 'DECIMAL_CONSTANT' and right_type.name == 'DECIMAL_CONSTANT':\n",
    "                    return symbol_table.lookup('DECIMAL_CONSTANT')\n",
    "                if left_type.name == 'INTEGER_CONSTANT' and right_type.name == 'DECIMAL_CONSTANT':\n",
    "                    return symbol_table.lookup('DECIMAL_CONSTANT')\n",
    "                if left_type.name == 'DECIMAL_CONSTANT' and right_type.name == 'INTEGER_CONSTANT':\n",
    "                    return symbol_table.lookup('DECIMAL_CONSTANT')\n",
    "                raise Exception('Type mismatch')\n",
    "            elif node.operator.operator in ['-', '*', '-=', '*=']:\n",
    "                if left_type.name == 'INTEGER_CONSTANT' and right_type.name == 'INTEGER_CONSTANT':\n",
    "                    return symbol_table.lookup('INTEGER_CONSTANT')\n",
    "                if left_type.name == 'DECIMAL_CONSTANT' and right_type.name == 'DECIMAL_CONSTANT':\n",
    "                    return symbol_table.lookup('DECIMAL_CONSTANT')\n",
    "                if left_type.name == 'INTEGER_CONSTANT' and right_type.name == 'DECIMAL_CONSTANT':\n",
    "                    return symbol_table.lookup('DECIMAL_CONSTANT')\n",
    "                if left_type.name == 'DECIMAL_CONSTANT' and right_type.name == 'INTEGER_CONSTANT':\n",
    "                    return symbol_table.lookup('DECIMAL_CONSTANT')\n",
    "                raise Exception('Type mismatch')\n",
    "            elif node.operator.operator in ['/','%','/=', '%=']:\n",
    "                if left_type.name == 'INTEGER_CONSTANT' and right_type.name == 'INTEGER_CONSTANT':\n",
    "                    return symbol_table.lookup('DECIMAL_CONSTANT')\n",
    "                if left_type.name == 'DECIMAL_CONSTANT' and right_type.name == 'DECIMAL_CONSTANT':\n",
    "                    return symbol_table.lookup('DECIMAL_CONSTANT')\n",
    "                if left_type.name == 'INTEGER_CONSTANT' and right_type.name == 'DECIMAL_CONSTANT':\n",
    "                    return symbol_table.lookup('DECIMAL_CONSTANT')\n",
    "                if left_type.name == 'DECIMAL_CONSTANT' and right_type.name == 'INTEGER_CONSTANT':\n",
    "                    return symbol_table.lookup('DECIMAL_CONSTANT')\n",
    "                raise Exception('Type mismatch')\n",
    "            elif node.operator.operator in ['&', '|']:\n",
    "                if left_type.name == 'BOOLEAN_VALUE' and right_type.name == 'BOOLEAN_VALUE':\n",
    "                    return symbol_table.lookup('BOOLEAN_VALUE')\n",
    "                if left_type.name == 'INTEGER_CONSTANT' and right_type.name == 'INTEGER_CONSTANT':\n",
    "                    return symbol_table.lookup('INTEGER_CONSTANT')\n",
    "                if left_type.name == 'DECIMAL_CONSTANT' and right_type.name == 'DECIMAL_CONSTANT':\n",
    "                    return symbol_table.lookup('DECIMAL_CONSTANT')\n",
    "                if left_type.name == 'INTEGER_CONSTANT' and right_type.name == 'DECIMAL_CONSTANT':\n",
    "                    return symbol_table.lookup('DECIMAL_CONSTANT')\n",
    "                if left_type.name == 'DECIMAL_CONSTANT' and right_type.name == 'INTEGER_CONSTANT':\n",
    "                    return symbol_table.lookup('DECIMAL_CONSTANT')\n",
    "                raise Exception('Type mismatch')\n",
    "            elif node.operator.operator in [\"<<=\", \">>=\", \"&=\", \"|=\", \"^=\"]:\n",
    "                if left_type == right_type:\n",
    "                    return symbol_table.lookup('BOOLEAN_VALUE')\n",
    "                raise Exception('Type mismatch')\n",
    "        elif isinstance(node.operator, parsing_ast.Comparator) and node.operator.comparator in ['==', '!=', '<=', '>=', '<', '>', '||', '&&']:\n",
    "            if left_type == right_type:\n",
    "                return symbol_table.lookup('BOOLEAN_VALUE')\n",
    "            raise Exception('Type mismatch')\n",
    "        else:\n",
    "            raise Exception('Unknown operator')    \n",
    "    if isinstance(node, parsing_ast.Literal):\n",
    "        return symbol_table.lookup(node.type)\n",
    "    if isinstance(node, parsing_ast.Identifier):\n",
    "        if not symbol_table.lookup(node.name):\n",
    "            raise Exception('Error: Symbol not found: %s' %node.name)"
   ]
  },
  {
   "cell_type": "code",
   "execution_count": 178,
   "metadata": {},
   "outputs": [],
   "source": [
    "def traverse_ast(node, symbol_table, last=True):\n",
    "    if isinstance(node, list):\n",
    "        for idx, item in enumerate(node):\n",
    "            if idx == len(node) - 1:\n",
    "                traverse_ast(item, last=True, symbol_table=symbol_table)\n",
    "            else:\n",
    "                traverse_ast(item, last=False, symbol_table=symbol_table)\n",
    "        return\n",
    "    print(type(node))\n",
    "    if type(node) == parsing_ast.Function:\n",
    "        if symbol_table.lookup(node.name.name):\n",
    "            raise Exception('Error: Duplicate Function Declaration: %s' % node.name.name)\n",
    "        symbol_table.insert(VarSymbol(node.name.name, 'function'))\n",
    "        new_table = SymbolTable()\n",
    "        symbol_stack.append(new_table)\n",
    "        for args in node.parameters.parameters:\n",
    "            if new_table.lookup(args.identifier.name):\n",
    "                raise Exception('Error: Duplicate Function Argument: %s' % args.identifier.name)\n",
    "            new_table.insert(VarSymbol(args.identifier.name, args.declaration_type.value))\n",
    "        children = [(k, v) for k, v in node.__dict__.items() if not k.startswith('_') and v]\n",
    "        for idx, (attr, child) in enumerate(children):\n",
    "            is_last = idx == len(children) - 1\n",
    "            traverse_ast(child, last=is_last, symbol_table=new_table)\n",
    "        return\n",
    "    if isinstance(node, parsing_ast.InbuiltFunctionCall):\n",
    "        if not symbol_table.lookup(node.base.name):\n",
    "            raise Exception('Error: Symbol not found: %s' % node.base.name)\n",
    "    if type(node) == parsing_ast.FunctionCall:\n",
    "        if not symbol_table.lookup(node.name.name):\n",
    "            raise Exception('Error: Symbol not found: %s' % node.name.name)\n",
    "    if isinstance(node, parsing_ast.VariableDeclaration):\n",
    "        if len(node.identifier) != len(node.value):\n",
    "            raise Exception('Error: Mismatch in number of identifiers and values')\n",
    "        for idx, identifier in enumerate(node.identifier):\n",
    "            if symbol_table.lookup(identifier.name):\n",
    "                raise Exception('Error: Duplicate identifier found: %s' % identifier.name)\n",
    "            if isinstance(node.value[idx], parsing_ast.Identifier) and not symbol_table.lookup(node.value[idx].name):\n",
    "                raise Exception('Error: Symbol not found: %s' % node.value[idx].name)\n",
    "            if isinstance(node.value[idx], parsing_ast.Identifier):\n",
    "                symbol_table.insert(VarSymbol(identifier.name, symbol_table.lookup(node.value[idx].name).type, node.declaration_type.value))\n",
    "            if isinstance(node.value[idx], parsing_ast.Literal):\n",
    "                symbol_table.insert(VarSymbol(identifier.name, symbol_table.lookup(node.value[idx].type), node.declaration_type.value))\n",
    "            if isinstance(node.value[idx], parsing_ast.BinaryOp):\n",
    "                symbol_table.insert(VarSymbol(identifier.name, deduce_type(node.value[idx], symbol_table), node.declaration_type.value))\n",
    "    if isinstance(node, parsing_ast.Declaration):\n",
    "        if symbol_table.lookup(node.identifier.name):\n",
    "            raise Exception('Error: Duplicate identifier found: %s' % node.identifier.name)\n",
    "        if node.declaration_type.value == 'tuple':\n",
    "            symbol_table.insert(VarSymbol(node.identifier.name, symbol_table.lookup('TUPLE'), node.declaration_type.value))\n",
    "        if node.declaration_type.value == 'list':\n",
    "            symbol_table.insert(VarSymbol(node.identifier.name, symbol_table.lookup('LIST'), node.declaration_type.value))\n",
    "        if node.declaration_type.value == 'array':\n",
    "            symbol_table.insert(VarSymbol(node.identifier.name, symbol_table.lookup('ARRAY'), node.declaration_type.value))\n",
    "        if isinstance(node.value, parsing_ast.Identifier) and not symbol_table.lookup(node.value.name):\n",
    "            raise Exception('Error: Symbol not found: %s' % node.value.name)\n",
    "        if isinstance(node.value, parsing_ast.Identifier):\n",
    "            symbol_table.insert(VarSymbol(node.identifier.name, symbol_table.lookup(node.value.name).type, node.declaration_type.value))\n",
    "        if isinstance(node.value, parsing_ast.Literal):\n",
    "            symbol_table.insert(VarSymbol(node.identifier.name, symbol_table.lookup(node.value.type), node.declaration_type.value))\n",
    "        if isinstance(node.value, parsing_ast.BinaryOp):\n",
    "            symbol_table.insert(VarSymbol(node.identifier.name, deduce_type(node.expression, symbol_table), node.declaration_type.value))\n",
    "    if isinstance(node, parsing_ast.Assignment):\n",
    "        if not symbol_table.lookup(node.identifier.name):\n",
    "            raise Exception('Error: Symbol not found: %s' % node.identifier.name)\n",
    "        if isinstance(node.expression, parsing_ast.Identifier) and not symbol_table.lookup(node.expression.name):\n",
    "            raise Exception('Error: Symbol not found: %s' % node.expression.name)\n",
    "        if isinstance(node.expression, parsing_ast.Identifier):\n",
    "            symbol = symbol_table.lookup(node.identifier.name)\n",
    "            symbol.type = symbol_table.lookup(node.expression.name).type\n",
    "        if isinstance(node.expression, parsing_ast.Literal):\n",
    "            symbol = symbol_table.lookup(node.identifier.name)\n",
    "            symbol.type = symbol_table.lookup(node.expression.type)\n",
    "        if isinstance(node.expression, parsing_ast.BinaryOp):\n",
    "            symbol = symbol_table.lookup(node.identifier.name)\n",
    "            symbol.type = deduce_type(node.expression, symbol_table)\n",
    "    if type(node) == parsing_ast.FunctionArgumentList:\n",
    "        for arg in node.arguments:\n",
    "            if isinstance(arg, parsing_ast.Identifier) and not symbol_table.lookup(arg.name):\n",
    "                raise Exception('Error: Symbol not found: %s' % arg.name)\n",
    "    if type(node) == parsing_ast.PrintArgumentList:\n",
    "        for arg in node.arguments:\n",
    "            if isinstance(arg, parsing_ast.Identifier) and not symbol_table.lookup(arg.name):\n",
    "                raise Exception('Error: Symbol not found: %s' % arg.name)\n",
    "    if type(node) == parsing_ast.IfElse:\n",
    "        if isinstance(node.expression, parsing_ast.Identifier) and not symbol_table.lookup(node.expression.name):\n",
    "            raise Exception('Error: Symbol not found: %s' % node.expression.name)\n",
    "    if type(node) == parsing_ast.While:\n",
    "        if isinstance(node.expression, parsing_ast.Identifier) and not symbol_table.lookup(node.expression.name):\n",
    "            raise Exception('Error: Symbol not found: %s' % node.expression.name)\n",
    "    if type(node) == parsing_ast.DoWhile:\n",
    "        if isinstance(node.expression, parsing_ast.Identifier) and not symbol_table.lookup(node.expression.name):\n",
    "            raise Exception('Error: Symbol not found: %s' % node.expression.name)\n",
    "    if type(node) == parsing_ast.BinaryOp:\n",
    "        if isinstance(node.children[0], parsing_ast.Identifier) and not symbol_table.lookup(node.children[0].name):\n",
    "            raise Exception('Error: Symbol not found: %s' % node.children[0].name)\n",
    "        if isinstance(node.children[1], parsing_ast.Identifier) and not symbol_table.lookup(node.children[1].name):\n",
    "            raise Exception('Error: Symbol not found: %s' % node.children[1].name)\n",
    "    if type(node) == parsing_ast.UnaryExpression:\n",
    "        if isinstance(node.children[0], parsing_ast.Identifier) and not symbol_table.lookup(node.children[0].name):\n",
    "            raise Exception('Error: Symbol not found: %s' % node.children[0].name)\n",
    "        if isinstance(node.operator, parsing_ast.Identifier) and not symbol_table.lookup(node.operator.name):\n",
    "            raise Exception('Error: Symbol not found: %s' % node.operator.name)\n",
    "    if not hasattr(node, '__dict__'):\n",
    "        return \n",
    "    children = [(k, v) for k, v in node.__dict__.items() if not k.startswith('_') and v]\n",
    "    for idx, (attr, child) in enumerate(children):\n",
    "        is_last = idx == len(children) - 1\n",
    "        traverse_ast(child, last=is_last, symbol_table=symbol_table)"
   ]
  },
  {
   "cell_type": "code",
   "execution_count": 179,
   "metadata": {},
   "outputs": [
    {
     "name": "stdout",
     "output_type": "stream",
     "text": [
      "<class 'parsing_ast.Statements'>\n",
      "<class 'parsing_ast.VariableDeclaration'>\n",
      "Lookup: a\n",
      "Lookup: INTEGER_CONSTANT\n",
      "Insert: a\n",
      "<class 'parsing_ast.DeclarationVariable'>\n",
      "<class 'str'>\n",
      "<class 'parsing_ast.Identifier'>\n",
      "<class 'str'>\n",
      "<class 'parsing_ast.Literal'>\n",
      "<class 'str'>\n",
      "<class 'str'>\n",
      "<class 'parsing_ast.Assignment'>\n",
      "Lookup: a\n",
      "<class 'parsing_ast.Identifier'>\n",
      "<class 'str'>\n",
      "<class 'parsing_ast.UnaryExpression'>\n",
      "Lookup: a\n",
      "<class 'parsing_ast.UnaryOperator'>\n",
      "<class 'str'>\n",
      "<class 'parsing_ast.Identifier'>\n",
      "<class 'str'>\n"
     ]
    }
   ],
   "source": [
    "traverse_ast(ast, symbol_table)"
   ]
  },
  {
   "cell_type": "code",
   "execution_count": 173,
   "metadata": {},
   "outputs": [
    {
     "name": "stdout",
     "output_type": "stream",
     "text": [
      "Lookup: INTEGER_CONSTANT\n"
     ]
    },
    {
     "data": {
      "text/plain": [
       "'INTEGER_CONSTANT'"
      ]
     },
     "execution_count": 173,
     "metadata": {},
     "output_type": "execute_result"
    }
   ],
   "source": [
    "symbol = symbol_table.lookup('INTEGER_CONSTANT')\n",
    "symbol.name"
   ]
  },
  {
   "cell_type": "code",
   "execution_count": 161,
   "metadata": {},
   "outputs": [
    {
     "name": "stdout",
     "output_type": "stream",
     "text": [
      "Lookup: a\n"
     ]
    }
   ],
   "source": [
    "symbol = symbol_table.lookup('a')"
   ]
  },
  {
   "cell_type": "code",
   "execution_count": 180,
   "metadata": {},
   "outputs": [
    {
     "data": {
      "text/plain": [
       "[\n",
       " \n",
       " Symbol table contents\n",
       " _____________________\n",
       " INTEGER_CONSTANT: <BuiltinTypeSymbol(name='INTEGER_CONSTANT')>\n",
       " DECIMAL_CONSTANT: <BuiltinTypeSymbol(name='DECIMAL_CONSTANT')>\n",
       " STRING_LITERAL: <BuiltinTypeSymbol(name='STRING_LITERAL')>\n",
       " BOOLEAN_VALUE: <BuiltinTypeSymbol(name='BOOLEAN_VALUE')>\n",
       " NULL_VALUE: <BuiltinTypeSymbol(name='NULL_VALUE')>\n",
       "   ARRAY: <BuiltinTypeSymbol(name='ARRAY')>\n",
       "   TUPLE: <BuiltinTypeSymbol(name='TUPLE')>\n",
       "    LIST: <BuiltinTypeSymbol(name='LIST')>\n",
       "       a: <VarSymbol(name='a', type='INTEGER_CONSTANT', category='var')>\n",
       " ]"
      ]
     },
     "execution_count": 180,
     "metadata": {},
     "output_type": "execute_result"
    }
   ],
   "source": [
    "symbol_stack"
   ]
  },
  {
   "cell_type": "code",
   "execution_count": 74,
   "metadata": {},
   "outputs": [
    {
     "data": {
      "text/plain": [
       "int"
      ]
     },
     "execution_count": 74,
     "metadata": {},
     "output_type": "execute_result"
    }
   ],
   "source": [
    "a = 1\n",
    "type(a)"
   ]
  },
  {
   "cell_type": "code",
   "execution_count": 75,
   "metadata": {},
   "outputs": [
    {
     "data": {
      "text/plain": [
       "float"
      ]
     },
     "execution_count": 75,
     "metadata": {},
     "output_type": "execute_result"
    }
   ],
   "source": [
    "b = 1.0\n",
    "type(b)"
   ]
  },
  {
   "cell_type": "code",
   "execution_count": 77,
   "metadata": {},
   "outputs": [
    {
     "data": {
      "text/plain": [
       "int"
      ]
     },
     "execution_count": 77,
     "metadata": {},
     "output_type": "execute_result"
    }
   ],
   "source": [
    "b = a\n",
    "type(b)"
   ]
  },
  {
   "cell_type": "code",
   "execution_count": null,
   "metadata": {},
   "outputs": [],
   "source": []
  }
 ],
 "metadata": {
  "kernelspec": {
   "display_name": "Python 3",
   "language": "python",
   "name": "python3"
  },
  "language_info": {
   "codemirror_mode": {
    "name": "ipython",
    "version": 3
   },
   "file_extension": ".py",
   "mimetype": "text/x-python",
   "name": "python",
   "nbconvert_exporter": "python",
   "pygments_lexer": "ipython3",
   "version": "3.11.8"
  }
 },
 "nbformat": 4,
 "nbformat_minor": 2
}
